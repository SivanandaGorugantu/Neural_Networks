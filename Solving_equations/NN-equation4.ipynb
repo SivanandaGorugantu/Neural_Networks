{
 "cells": [
  {
   "cell_type": "code",
   "execution_count": 1,
   "metadata": {},
   "outputs": [
    {
     "name": "stdout",
     "output_type": "stream",
     "text": [
      "Fri Jul 24 03:24:51 2020       \r\n",
      "+-----------------------------------------------------------------------------+\r\n",
      "| NVIDIA-SMI 440.100      Driver Version: 440.100      CUDA Version: 10.2     |\r\n",
      "|-------------------------------+----------------------+----------------------+\r\n",
      "| GPU  Name        Persistence-M| Bus-Id        Disp.A | Volatile Uncorr. ECC |\r\n",
      "| Fan  Temp  Perf  Pwr:Usage/Cap|         Memory-Usage | GPU-Util  Compute M. |\r\n",
      "|===============================+======================+======================|\r\n",
      "|   0  GeForce 940MX       Off  | 00000000:01:00.0 Off |                  N/A |\r\n",
      "| N/A   66C    P5    N/A /  N/A |    387MiB /  4046MiB |     33%      Default |\r\n",
      "+-------------------------------+----------------------+----------------------+\r\n",
      "                                                                               \r\n",
      "+-----------------------------------------------------------------------------+\r\n",
      "| Processes:                                                       GPU Memory |\r\n",
      "|  GPU       PID   Type   Process name                             Usage      |\r\n",
      "|=============================================================================|\r\n",
      "|    0      2795      G   /usr/lib/xorg/Xorg                           179MiB |\r\n",
      "|    0      2998      G   /usr/bin/gnome-shell                          96MiB |\r\n",
      "|    0      3649      G   ...uest-channel-token=13745535670427640597    67MiB |\r\n",
      "|    0     12619      C   /usr/bin/python3                              19MiB |\r\n",
      "|    0     13149      C   /usr/bin/python3                              19MiB |\r\n",
      "+-----------------------------------------------------------------------------+\r\n"
     ]
    }
   ],
   "source": [
    "!nvidia-smi"
   ]
  },
  {
   "cell_type": "code",
   "execution_count": 2,
   "metadata": {
    "scrolled": true
   },
   "outputs": [
    {
     "name": "stdout",
     "output_type": "stream",
     "text": [
      "1.14.0\n"
     ]
    },
    {
     "name": "stderr",
     "output_type": "stream",
     "text": [
      "Using TensorFlow backend.\n"
     ]
    }
   ],
   "source": [
    "import os\n",
    "# os.environ['CUDA_VISIBLE_DEVICES'] = '0'\n",
    "import tensorflow as tf\n",
    "import keras\n",
    "import keras.backend as K\n",
    "print(tf.__version__)"
   ]
  },
  {
   "cell_type": "code",
   "execution_count": 3,
   "metadata": {},
   "outputs": [
    {
     "name": "stdout",
     "output_type": "stream",
     "text": [
      "WARNING:tensorflow:From /home/sivananda/.local/lib/python3.6/site-packages/keras/backend/tensorflow_backend.py:74: The name tf.get_default_graph is deprecated. Please use tf.compat.v1.get_default_graph instead.\n",
      "\n",
      "WARNING:tensorflow:From /home/sivananda/.local/lib/python3.6/site-packages/keras/backend/tensorflow_backend.py:517: The name tf.placeholder is deprecated. Please use tf.compat.v1.placeholder instead.\n",
      "\n",
      "WARNING:tensorflow:From /home/sivananda/.local/lib/python3.6/site-packages/keras/backend/tensorflow_backend.py:4138: The name tf.random_uniform is deprecated. Please use tf.random.uniform instead.\n",
      "\n",
      "_________________________________________________________________\n",
      "Layer (type)                 Output Shape              Param #   \n",
      "=================================================================\n",
      "dense_1 (Dense)              (None, 16)                48        \n",
      "_________________________________________________________________\n",
      "dense_2 (Dense)              (None, 32)                544       \n",
      "_________________________________________________________________\n",
      "dense_3 (Dense)              (None, 64)                2112      \n",
      "_________________________________________________________________\n",
      "dense_4 (Dense)              (None, 128)               8320      \n",
      "_________________________________________________________________\n",
      "dense_5 (Dense)              (None, 1)                 129       \n",
      "=================================================================\n",
      "Total params: 11,153\n",
      "Trainable params: 11,153\n",
      "Non-trainable params: 0\n",
      "_________________________________________________________________\n"
     ]
    }
   ],
   "source": [
    "equation = lambda a,b: a**2 + 2*a*b + b**2\n",
    "\n",
    "\n",
    "model = keras.models.Sequential()\n",
    "\n",
    "model.add(keras.layers.InputLayer((2,)))\n",
    "model.add(keras.layers.Dense(16,activation='relu'))\n",
    "model.add(keras.layers.Dense(32,activation='relu'))\n",
    "model.add(keras.layers.Dense(64,activation='relu'))\n",
    "model.add(keras.layers.Dense(128,activation='relu'))\n",
    "# model.add(keras.layers.Dense(16,))\n",
    "model.add(keras.layers.Dense(1,activation='relu'))\n",
    "\n",
    "model.summary()"
   ]
  },
  {
   "cell_type": "code",
   "execution_count": 4,
   "metadata": {},
   "outputs": [],
   "source": [
    "import numpy as np\n",
    "\n",
    "inpX = []\n",
    "Y = []\n",
    "for i in range(100000):\n",
    "    a = np.random.randint(10)\n",
    "    b = np.random.randint(10)\n",
    "    c = np.random.randint(10)\n",
    "    x = np.random.randint(10)\n",
    "    \n",
    "    y = equation(a,b)\n",
    "    \n",
    "    inpX.append([a,b])\n",
    "    Y.append(y)\n",
    "    \n",
    "# print(inpX,Y)\n",
    "\n",
    "inpX = np.array(inpX)\n",
    "Y = np.array(Y)"
   ]
  },
  {
   "cell_type": "code",
   "execution_count": 5,
   "metadata": {},
   "outputs": [
    {
     "name": "stdout",
     "output_type": "stream",
     "text": [
      "(90000, 2) (90000,)\n"
     ]
    }
   ],
   "source": [
    "from sklearn.model_selection import train_test_split\n",
    "\n",
    "X_train, X_test, Y_train, Y_test = train_test_split(inpX, Y, test_size=0.1)\n",
    "print(X_train.shape,Y_train.shape)"
   ]
  },
  {
   "cell_type": "code",
   "execution_count": 6,
   "metadata": {},
   "outputs": [
    {
     "name": "stdout",
     "output_type": "stream",
     "text": [
      "WARNING:tensorflow:From /home/sivananda/.local/lib/python3.6/site-packages/keras/optimizers.py:790: The name tf.train.Optimizer is deprecated. Please use tf.compat.v1.train.Optimizer instead.\n",
      "\n"
     ]
    }
   ],
   "source": [
    "model.compile(optimizer=keras.optimizers.Adam(),loss=\"mse\",metrics=['accuracy'])"
   ]
  },
  {
   "cell_type": "code",
   "execution_count": 7,
   "metadata": {
    "scrolled": true
   },
   "outputs": [
    {
     "name": "stdout",
     "output_type": "stream",
     "text": [
      "WARNING:tensorflow:From /home/sivananda/.local/lib/python3.6/site-packages/keras/backend/tensorflow_backend.py:986: The name tf.assign_add is deprecated. Please use tf.compat.v1.assign_add instead.\n",
      "\n",
      "WARNING:tensorflow:From /home/sivananda/.local/lib/python3.6/site-packages/keras/backend/tensorflow_backend.py:973: The name tf.assign is deprecated. Please use tf.compat.v1.assign instead.\n",
      "\n",
      "Epoch 1/10\n",
      "90000/90000 [==============================] - 5s 53us/step - loss: 147.9139 - acc: 0.3251\n",
      "Epoch 2/10\n",
      "90000/90000 [==============================] - 5s 50us/step - loss: 1.3028 - acc: 0.5486\n",
      "Epoch 3/10\n",
      "90000/90000 [==============================] - 5s 51us/step - loss: 0.9221 - acc: 0.6245\n",
      "Epoch 4/10\n",
      "90000/90000 [==============================] - 5s 54us/step - loss: 0.6642 - acc: 0.7059\n",
      "Epoch 5/10\n",
      "90000/90000 [==============================] - 5s 52us/step - loss: 0.9255 - acc: 0.7292\n",
      "Epoch 6/10\n",
      "90000/90000 [==============================] - 5s 59us/step - loss: 0.6748 - acc: 0.7993\n",
      "Epoch 7/10\n",
      "90000/90000 [==============================] - 6s 62us/step - loss: 0.4728 - acc: 0.8138\n",
      "Epoch 8/10\n",
      "90000/90000 [==============================] - 5s 56us/step - loss: 0.5957 - acc: 0.8376\n",
      "Epoch 9/10\n",
      "90000/90000 [==============================] - 5s 56us/step - loss: 0.5505 - acc: 0.8589\n",
      "Epoch 10/10\n",
      "90000/90000 [==============================] - 5s 57us/step - loss: 0.4270 - acc: 0.8756\n"
     ]
    },
    {
     "data": {
      "text/plain": [
       "<keras.callbacks.History at 0x7ffa22d2deb8>"
      ]
     },
     "execution_count": 7,
     "metadata": {},
     "output_type": "execute_result"
    }
   ],
   "source": [
    "model.fit(X_train,Y_train,batch_size=16,epochs=10,verbose=1,shuffle=True,initial_epoch=0)"
   ]
  },
  {
   "cell_type": "code",
   "execution_count": 8,
   "metadata": {
    "scrolled": true
   },
   "outputs": [
    {
     "name": "stdout",
     "output_type": "stream",
     "text": [
      "Epoch 1/25\n",
      "90000/90000 [==============================] - 1s 14us/step - loss: 0.0139 - acc: 0.9933\n",
      "Epoch 2/25\n",
      "90000/90000 [==============================] - 1s 15us/step - loss: 0.1234 - acc: 0.9561\n",
      "Epoch 3/25\n",
      "90000/90000 [==============================] - 1s 15us/step - loss: 0.0626 - acc: 0.9769\n",
      "Epoch 4/25\n",
      "90000/90000 [==============================] - 1s 15us/step - loss: 0.1010 - acc: 0.9371\n",
      "Epoch 5/25\n",
      "90000/90000 [==============================] - 1s 15us/step - loss: 0.0692 - acc: 0.9693\n",
      "Epoch 6/25\n",
      "90000/90000 [==============================] - 1s 15us/step - loss: 0.1144 - acc: 0.9530\n",
      "Epoch 7/25\n",
      "90000/90000 [==============================] - 1s 15us/step - loss: 0.0351 - acc: 0.9740\n",
      "Epoch 8/25\n",
      "90000/90000 [==============================] - 1s 15us/step - loss: 0.0846 - acc: 0.9568\n",
      "Epoch 9/25\n",
      "90000/90000 [==============================] - 1s 15us/step - loss: 0.0924 - acc: 0.9656\n",
      "Epoch 10/25\n",
      "90000/90000 [==============================] - 1s 15us/step - loss: 0.1908 - acc: 0.9442\n",
      "Epoch 11/25\n",
      "90000/90000 [==============================] - 1s 16us/step - loss: 0.0369 - acc: 0.9807\n",
      "Epoch 12/25\n",
      "90000/90000 [==============================] - 2s 17us/step - loss: 0.1033 - acc: 0.9538\n",
      "Epoch 13/25\n",
      "90000/90000 [==============================] - 1s 16us/step - loss: 0.0531 - acc: 0.9684\n",
      "Epoch 14/25\n",
      "90000/90000 [==============================] - 1s 16us/step - loss: 0.1028 - acc: 0.9385\n",
      "Epoch 15/25\n",
      "90000/90000 [==============================] - 2s 18us/step - loss: 0.1065 - acc: 0.9733\n",
      "Epoch 16/25\n",
      "90000/90000 [==============================] - 2s 18us/step - loss: 0.0518 - acc: 0.9598\n",
      "Epoch 17/25\n",
      "90000/90000 [==============================] - 1s 17us/step - loss: 0.1242 - acc: 0.9560\n",
      "Epoch 18/25\n",
      "90000/90000 [==============================] - 1s 17us/step - loss: 0.0990 - acc: 0.9598\n",
      "Epoch 19/25\n",
      "90000/90000 [==============================] - 1s 16us/step - loss: 0.0976 - acc: 0.9578\n",
      "Epoch 20/25\n",
      "90000/90000 [==============================] - 1s 16us/step - loss: 0.0370 - acc: 0.9732\n",
      "Epoch 21/25\n",
      "90000/90000 [==============================] - 1s 17us/step - loss: 0.0667 - acc: 0.9529\n",
      "Epoch 22/25\n",
      "90000/90000 [==============================] - 2s 17us/step - loss: 0.0725 - acc: 0.9449\n",
      "Epoch 23/25\n",
      "90000/90000 [==============================] - 1s 17us/step - loss: 0.0845 - acc: 0.9401\n",
      "Epoch 24/25\n",
      "90000/90000 [==============================] - 1s 17us/step - loss: 0.0352 - acc: 0.9812\n",
      "Epoch 25/25\n",
      "90000/90000 [==============================] - 2s 17us/step - loss: 0.0904 - acc: 0.9471\n"
     ]
    },
    {
     "data": {
      "text/plain": [
       "<keras.callbacks.History at 0x7ffa22b58b38>"
      ]
     },
     "execution_count": 8,
     "metadata": {},
     "output_type": "execute_result"
    }
   ],
   "source": [
    "model.fit(X_train,Y_train,batch_size=64,epochs=25,verbose=1,shuffle=True,initial_epoch=0)"
   ]
  },
  {
   "cell_type": "code",
   "execution_count": 9,
   "metadata": {
    "scrolled": true
   },
   "outputs": [
    {
     "name": "stdout",
     "output_type": "stream",
     "text": [
      "Epoch 1/50\n",
      "90000/90000 [==============================] - 1s 6us/step - loss: 1.6008e-04 - acc: 1.0000\n",
      "Epoch 2/50\n",
      "90000/90000 [==============================] - 1s 6us/step - loss: 8.0244e-05 - acc: 1.0000\n",
      "Epoch 3/50\n",
      "90000/90000 [==============================] - 1s 6us/step - loss: 0.0151 - acc: 0.9868\n",
      "Epoch 4/50\n",
      "90000/90000 [==============================] - 1s 6us/step - loss: 0.0748 - acc: 0.9412\n",
      "Epoch 5/50\n",
      "90000/90000 [==============================] - 1s 6us/step - loss: 0.0237 - acc: 0.9758\n",
      "Epoch 6/50\n",
      "90000/90000 [==============================] - 1s 6us/step - loss: 0.0460 - acc: 0.9582\n",
      "Epoch 7/50\n",
      "90000/90000 [==============================] - 1s 6us/step - loss: 0.0100 - acc: 0.9928\n",
      "Epoch 8/50\n",
      "90000/90000 [==============================] - 1s 6us/step - loss: 0.0348 - acc: 0.9680\n",
      "Epoch 9/50\n",
      "90000/90000 [==============================] - 1s 6us/step - loss: 0.0360 - acc: 0.9713\n",
      "Epoch 10/50\n",
      "90000/90000 [==============================] - 1s 6us/step - loss: 0.1510 - acc: 0.9300\n",
      "Epoch 11/50\n",
      "90000/90000 [==============================] - 1s 7us/step - loss: 7.2094e-04 - acc: 1.0000\n",
      "Epoch 12/50\n",
      "90000/90000 [==============================] - 1s 6us/step - loss: 9.3002e-05 - acc: 1.0000\n",
      "Epoch 13/50\n",
      "90000/90000 [==============================] - 1s 6us/step - loss: 0.0671 - acc: 0.9467\n",
      "Epoch 14/50\n",
      "90000/90000 [==============================] - 1s 6us/step - loss: 4.5799e-04 - acc: 1.0000\n",
      "Epoch 15/50\n",
      "90000/90000 [==============================] - 1s 7us/step - loss: 0.0247 - acc: 0.9786\n",
      "Epoch 16/50\n",
      "90000/90000 [==============================] - 1s 7us/step - loss: 0.0913 - acc: 0.9213\n",
      "Epoch 17/50\n",
      "90000/90000 [==============================] - 1s 6us/step - loss: 1.1442e-04 - acc: 1.0000\n",
      "Epoch 18/50\n",
      "90000/90000 [==============================] - 1s 6us/step - loss: 0.0362 - acc: 0.9669\n",
      "Epoch 19/50\n",
      "90000/90000 [==============================] - 1s 7us/step - loss: 0.0471 - acc: 0.9560\n",
      "Epoch 20/50\n",
      "90000/90000 [==============================] - 1s 6us/step - loss: 0.1110 - acc: 0.9553\n",
      "Epoch 21/50\n",
      "90000/90000 [==============================] - 1s 6us/step - loss: 0.0033 - acc: 0.9981\n",
      "Epoch 22/50\n",
      "90000/90000 [==============================] - 1s 6us/step - loss: 2.8619e-04 - acc: 1.0000\n",
      "Epoch 23/50\n",
      "90000/90000 [==============================] - 1s 8us/step - loss: 0.0305 - acc: 0.9739\n",
      "Epoch 24/50\n",
      "90000/90000 [==============================] - 1s 7us/step - loss: 0.0717 - acc: 0.9469\n",
      "Epoch 25/50\n",
      "90000/90000 [==============================] - 1s 7us/step - loss: 0.0068 - acc: 0.9948\n",
      "Epoch 26/50\n",
      "90000/90000 [==============================] - 1s 7us/step - loss: 0.0737 - acc: 0.9587\n",
      "Epoch 27/50\n",
      "90000/90000 [==============================] - 1s 7us/step - loss: 8.1846e-05 - acc: 1.0000\n",
      "Epoch 28/50\n",
      "90000/90000 [==============================] - 1s 7us/step - loss: 0.0335 - acc: 0.9663\n",
      "Epoch 29/50\n",
      "90000/90000 [==============================] - 1s 7us/step - loss: 0.0835 - acc: 0.9433\n",
      "Epoch 30/50\n",
      "90000/90000 [==============================] - 1s 7us/step - loss: 3.9989e-05 - acc: 1.0000\n",
      "Epoch 31/50\n",
      "90000/90000 [==============================] - 1s 8us/step - loss: 0.1169 - acc: 0.9177\n",
      "Epoch 32/50\n",
      "90000/90000 [==============================] - 1s 8us/step - loss: 3.8884e-05 - acc: 1.0000\n",
      "Epoch 33/50\n",
      "90000/90000 [==============================] - 1s 8us/step - loss: 1.9831e-04 - acc: 1.0000\n",
      "Epoch 34/50\n",
      "90000/90000 [==============================] - 1s 8us/step - loss: 0.0361 - acc: 0.9623\n",
      "Epoch 35/50\n",
      "90000/90000 [==============================] - 1s 8us/step - loss: 0.0743 - acc: 0.9453\n",
      "Epoch 36/50\n",
      "90000/90000 [==============================] - 1s 8us/step - loss: 2.4244e-04 - acc: 1.0000\n",
      "Epoch 37/50\n",
      "90000/90000 [==============================] - 1s 8us/step - loss: 0.0309 - acc: 0.9723\n",
      "Epoch 38/50\n",
      "90000/90000 [==============================] - 1s 8us/step - loss: 0.0780 - acc: 0.9437\n",
      "Epoch 39/50\n",
      "90000/90000 [==============================] - 1s 9us/step - loss: 8.9171e-05 - acc: 1.0000\n",
      "Epoch 40/50\n",
      "90000/90000 [==============================] - 1s 10us/step - loss: 0.0564 - acc: 0.9632\n",
      "Epoch 41/50\n",
      "90000/90000 [==============================] - 1s 9us/step - loss: 0.0341 - acc: 0.9750\n",
      "Epoch 42/50\n",
      "90000/90000 [==============================] - 1s 8us/step - loss: 0.0347 - acc: 0.9666\n",
      "Epoch 43/50\n",
      "90000/90000 [==============================] - 1s 8us/step - loss: 0.0196 - acc: 0.9820\n",
      "Epoch 44/50\n",
      "90000/90000 [==============================] - 1s 8us/step - loss: 0.1323 - acc: 0.8930\n",
      "Epoch 45/50\n",
      "90000/90000 [==============================] - 1s 9us/step - loss: 3.0045e-05 - acc: 1.0000\n",
      "Epoch 46/50\n",
      "90000/90000 [==============================] - 1s 10us/step - loss: 1.5430e-04 - acc: 1.0000\n",
      "Epoch 47/50\n",
      "90000/90000 [==============================] - 1s 9us/step - loss: 0.0627 - acc: 0.9603\n",
      "Epoch 48/50\n",
      "90000/90000 [==============================] - 1s 9us/step - loss: 0.0969 - acc: 0.9452\n",
      "Epoch 49/50\n",
      "90000/90000 [==============================] - 1s 8us/step - loss: 5.1040e-04 - acc: 1.0000\n",
      "Epoch 50/50\n",
      "90000/90000 [==============================] - 1s 9us/step - loss: 9.4504e-05 - acc: 1.0000\n"
     ]
    },
    {
     "data": {
      "text/plain": [
       "<keras.callbacks.History at 0x7ffa22b58e10>"
      ]
     },
     "execution_count": 9,
     "metadata": {},
     "output_type": "execute_result"
    }
   ],
   "source": [
    "model.fit(X_train,Y_train,batch_size=256,epochs=50,verbose=1,shuffle=True,initial_epoch=0)"
   ]
  },
  {
   "cell_type": "code",
   "execution_count": 10,
   "metadata": {
    "scrolled": true
   },
   "outputs": [
    {
     "name": "stdout",
     "output_type": "stream",
     "text": [
      "Epoch 1/10\n",
      "90000/90000 [==============================] - 1s 9us/step - loss: 0.0022 - acc: 0.9983\n",
      "Epoch 2/10\n",
      "90000/90000 [==============================] - 1s 6us/step - loss: 5.3687e-06 - acc: 1.0000\n",
      "Epoch 3/10\n",
      "90000/90000 [==============================] - 1s 6us/step - loss: 3.2821e-06 - acc: 1.0000\n",
      "Epoch 4/10\n",
      "90000/90000 [==============================] - 1s 6us/step - loss: 2.1840e-04 - acc: 1.0000\n",
      "Epoch 5/10\n",
      "90000/90000 [==============================] - 1s 6us/step - loss: 3.3982e-04 - acc: 1.0000\n",
      "Epoch 6/10\n",
      "90000/90000 [==============================] - 1s 6us/step - loss: 3.0274e-04 - acc: 1.0000\n",
      "Epoch 7/10\n",
      "90000/90000 [==============================] - 1s 6us/step - loss: 4.2700e-04 - acc: 1.0000\n",
      "Epoch 8/10\n",
      "90000/90000 [==============================] - 1s 6us/step - loss: 6.8553e-04 - acc: 1.0000\n",
      "Epoch 9/10\n",
      "90000/90000 [==============================] - 1s 6us/step - loss: 5.8864e-06 - acc: 1.0000\n",
      "Epoch 10/10\n",
      "90000/90000 [==============================] - 1s 6us/step - loss: 9.3256e-04 - acc: 1.0000\n"
     ]
    },
    {
     "data": {
      "text/plain": [
       "<keras.callbacks.History at 0x7ffa15a79a90>"
      ]
     },
     "execution_count": 10,
     "metadata": {},
     "output_type": "execute_result"
    }
   ],
   "source": [
    "model.compile(optimizer=keras.optimizers.Adam(lr=1e-4),loss=\"mse\",metrics=['accuracy'])\n",
    "model.fit(X_train,Y_train,batch_size=256,epochs=10,verbose=1,shuffle=True,initial_epoch=0)"
   ]
  },
  {
   "cell_type": "code",
   "execution_count": 11,
   "metadata": {},
   "outputs": [],
   "source": [
    "y_pred = model.predict(X_test)"
   ]
  },
  {
   "cell_type": "code",
   "execution_count": 12,
   "metadata": {},
   "outputs": [
    {
     "name": "stdout",
     "output_type": "stream",
     "text": [
      "[144.00044   288.99954     1.0002335  16.000002    9.000043  289.00055\n",
      " 143.99968   100.0002     49.00007   100.00002  ] [144. 289.   1.  16.   9. 289. 144. 100.  49. 100.]\n",
      "<class 'numpy.float32'> <class 'numpy.float32'>\n"
     ]
    }
   ],
   "source": [
    "print(np.squeeze(y_pred[:10]),np.array(Y_test,dtype=np.float32)[:10])\n",
    "print(type(np.squeeze(y_pred)[0]),type(np.array(Y_test,dtype=np.float32)[0]))"
   ]
  },
  {
   "cell_type": "code",
   "execution_count": 13,
   "metadata": {},
   "outputs": [
    {
     "name": "stdout",
     "output_type": "stream",
     "text": [
      "10000/10000 [==============================] - 0s 23us/step\n"
     ]
    },
    {
     "data": {
      "text/plain": [
       "[1.0034748361249512e-07, 1.0]"
      ]
     },
     "execution_count": 13,
     "metadata": {},
     "output_type": "execute_result"
    }
   ],
   "source": [
    "model.evaluate(X_test,Y_test)"
   ]
  },
  {
   "cell_type": "code",
   "execution_count": null,
   "metadata": {},
   "outputs": [],
   "source": []
  }
 ],
 "metadata": {
  "kernelspec": {
   "display_name": "Python 3",
   "language": "python",
   "name": "python3"
  },
  "language_info": {
   "codemirror_mode": {
    "name": "ipython",
    "version": 3
   },
   "file_extension": ".py",
   "mimetype": "text/x-python",
   "name": "python",
   "nbconvert_exporter": "python",
   "pygments_lexer": "ipython3",
   "version": "3.6.9"
  }
 },
 "nbformat": 4,
 "nbformat_minor": 2
}
